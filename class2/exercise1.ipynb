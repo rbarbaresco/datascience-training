{
 "cells": [
  {
   "cell_type": "code",
   "execution_count": 67,
   "metadata": {},
   "outputs": [
    {
     "name": "stdout",
     "output_type": "stream",
     "text": [
      "[nltk_data] Downloading package rslp to /home/rodrigo/nltk_data...\n",
      "[nltk_data]   Package rslp is already up-to-date!\n"
     ]
    }
   ],
   "source": [
    "import pandas as pd\n",
    "import Levenshtein\n",
    "import nltk\n",
    "from nltk.stem import RSLPStemmer\n",
    "\n",
    "nltk.download('rslp')\n",
    "ps = RSLPStemmer()\n",
    "k_r = 0.68\n",
    "k_d = 1\n",
    "k_l = 3"
   ]
  },
  {
   "cell_type": "code",
   "execution_count": 6,
   "metadata": {},
   "outputs": [],
   "source": [
    "dataframe = pd.read_csv('data/qualificacoes.csv')"
   ]
  },
  {
   "cell_type": "code",
   "execution_count": 7,
   "metadata": {},
   "outputs": [],
   "source": [
    "dataframe['norm_qual'] = dataframe['Nome'].apply(lambda nome: nome.replace('é', 'e').lower())\n",
    "dataframe = dataframe.sort_values(by=['norm_qual'])"
   ]
  },
  {
   "cell_type": "code",
   "execution_count": 65,
   "metadata": {},
   "outputs": [],
   "source": [
    "## Option 1\n",
    "groups = list()\n",
    "\n",
    "def put_in_group(norm_qual):\n",
    "    stemmed_qual = ps.stem(norm_qual)\n",
    "\n",
    "    found_group = True\n",
    "    added = False\n",
    "    for group in groups:\n",
    "        for el in group:\n",
    "            stemmed_el = ps.stem(el)\n",
    "#             if len(el) <= k_l:\n",
    "#                 ratio = Levenshtein.distance(stemmed_qual, stemmed_el)\n",
    "#                 if ratio > k_d:\n",
    "#                     found_group = False\n",
    "#                     break\n",
    "#             else:\n",
    "            ratio = Levenshtein.ratio(stemmed_qual, stemmed_el)\n",
    "            if ratio < k_r:\n",
    "                found_group = False\n",
    "                break\n",
    "                \n",
    "        if found_group:\n",
    "            group.add(norm_qual)\n",
    "            added = True\n",
    "            break\n",
    "        found_group = True\n",
    "    if not added:\n",
    "        groups.append(set([norm_qual]))\n",
    "    \n",
    "for line in dataframe.values:\n",
    "    norm_qual = line[4]\n",
    "    put_in_group(norm_qual)\n",
    "\n",
    "# groups\n",
    "        "
   ]
  },
  {
   "cell_type": "code",
   "execution_count": 68,
   "metadata": {},
   "outputs": [
    {
     "data": {
      "text/plain": [
       "[{'a definir'},\n",
       " {'adm-terc.', 'fiadterc'},\n",
       " {'adv.(a/s)', 'recdo.(a/s)'},\n",
       " {'advogada', 'advogado'},\n",
       " {'agravado', 'agravante', 'agravdo', 'agravte'},\n",
       " {'apelado', 'apelante'},\n",
       " {'arremterc'},\n",
       " {'au'},\n",
       " {'autor'},\n",
       " {'credor'},\n",
       " {'cônjuge'},\n",
       " {'depositário'},\n",
       " {'embar'},\n",
       " {'embargado', 'embargante', 'embargaodo', 'embargdo', 'embargte'},\n",
       " {'empresa'},\n",
       " {'excipte', 'excpto', 'exectda', 'exectdo', 'executado'},\n",
       " {'exe', 'exeq', 'exeqte', 'exequente'},\n",
       " {'fisico'},\n",
       " {'gestor'},\n",
       " {'interessado'},\n",
       " {'invtarda'},\n",
       " {'litisativ.'},\n",
       " {'notificado', 'notificante'},\n",
       " {'outros'},\n",
       " {'perito'},\n",
       " {'pf'},\n",
       " {'proc.(a/s)(es)'},\n",
       " {'re', 'req', 'reqda', 'reqdo', 'reqt', 'reqte', 'requ', 'reque', 'reu'},\n",
       " {'recte.(s)'},\n",
       " {'repreleg'},\n",
       " {'reprtate'},\n",
       " {'requerente', 'requeri', 'requerida', 'requerido'},\n",
       " {'terceiro', 'terintcer'}]"
      ]
     },
     "execution_count": 68,
     "metadata": {},
     "output_type": "execute_result"
    }
   ],
   "source": [
    "## Option 2\n",
    "groups = list()\n",
    "\n",
    "def calculate(group, candidate):\n",
    "    score = 0.0\n",
    "    for el in group:\n",
    "        stemmed_el = ps.stem(el)\n",
    "        score += Levenshtein.ratio(candidate, stemmed_el)\n",
    "    return score / len(group)\n",
    "\n",
    "def put_in_group(norm_qual):\n",
    "    stemmed_qual = ps.stem(norm_qual)\n",
    "    \n",
    "    best_group = None\n",
    "    best_score = 0.0\n",
    "    for group_candidate in groups:\n",
    "        score_candidate = calculate(group_candidate, stemmed_qual)\n",
    "        \n",
    "        if score_candidate > k_r:\n",
    "        \n",
    "            if not best_group:\n",
    "                best_group = group_candidate\n",
    "                best_score = score_candidate\n",
    "            else:\n",
    "                if score_candidate > best_score:\n",
    "                    best_group = group_candidate\n",
    "                    best_score = score_candidate\n",
    "    \n",
    "\n",
    "    if not best_group:\n",
    "        best_group = set([norm_qual])\n",
    "        groups.append(best_group)\n",
    "    else:\n",
    "        best_group.add(norm_qual)\n",
    "    \n",
    "for line in dataframe.values:\n",
    "    norm_qual = line[4]\n",
    "    put_in_group(norm_qual)\n",
    "\n",
    "groups"
   ]
  },
  {
   "cell_type": "code",
   "execution_count": null,
   "metadata": {},
   "outputs": [],
   "source": []
  }
 ],
 "metadata": {
  "kernelspec": {
   "display_name": "Python 3",
   "language": "python",
   "name": "python3"
  },
  "language_info": {
   "codemirror_mode": {
    "name": "ipython",
    "version": 3
   },
   "file_extension": ".py",
   "mimetype": "text/x-python",
   "name": "python",
   "nbconvert_exporter": "python",
   "pygments_lexer": "ipython3",
   "version": "3.6.5"
  }
 },
 "nbformat": 4,
 "nbformat_minor": 2
}
