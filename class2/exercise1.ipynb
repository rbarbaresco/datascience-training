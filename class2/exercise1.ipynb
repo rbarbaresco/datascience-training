{
 "cells": [
  {
   "cell_type": "code",
   "execution_count": 68,
   "metadata": {},
   "outputs": [],
   "source": [
    "import pandas as pd\n",
    "import Levenshtein\n",
    "from nltk.stem import PorterStemmer\n",
    "ps = PorterStemmer()\n",
    "k_r = 0.4\n",
    "k_d = 1\n",
    "k_l = 3"
   ]
  },
  {
   "cell_type": "code",
   "execution_count": 8,
   "metadata": {},
   "outputs": [],
   "source": [
    "dataframe = pd.read_csv('/home/rodrigo/workspace-datascience/exercicios/data/qualificacoes.csv')"
   ]
  },
  {
   "cell_type": "code",
   "execution_count": 61,
   "metadata": {},
   "outputs": [],
   "source": [
    "dataframe['norm_qual'] = dataframe['Nome'].apply(lambda nome: nome.replace('é', 'e').lower())\n",
    "dataframe = dataframe.sort_values(by=['norm_qual'])"
   ]
  },
  {
   "cell_type": "code",
   "execution_count": 72,
   "metadata": {},
   "outputs": [
    {
     "data": {
      "text/plain": [
       "[{'a definir', 'adm-terc.', 'fiadterc'},\n",
       " {'adv.(a/s)', 'advogada', 'advogado'},\n",
       " {'agravado', 'agravante', 'agravdo', 'agravte'},\n",
       " {'apelado', 'apelante', 'empresa', 'repreleg'},\n",
       " {'arremterc', 'autor', 'embar'},\n",
       " {'au'},\n",
       " {'credor',\n",
       "  'embargado',\n",
       "  'embargdo',\n",
       "  'executado',\n",
       "  'interessado',\n",
       "  'reqdo',\n",
       "  'requerido'},\n",
       " {'cônjuge'},\n",
       " {'depositário', 'excpto', 'gestor', 'perito'},\n",
       " {'embargante', 'embargaodo', 'embargte'},\n",
       " {'excipte', 'exe', 'exeq'},\n",
       " {'exectda', 'exectdo', 'exeqte', 'exequente'},\n",
       " {'fisico', 'notificado'},\n",
       " {'invtarda', 'reqda'},\n",
       " {'litisativ.', 'notificante'},\n",
       " {'outros', 'terceiro'},\n",
       " {'pf'},\n",
       " {'proc.(a/s)(es)', 'recdo.(a/s)', 'recte.(s)'},\n",
       " {'re', 'req', 'reu'},\n",
       " {'reprtate', 'reqt', 'reqte', 'requerente', 'requeri', 'requerida'},\n",
       " {'requ', 'reque'},\n",
       " {'terintcer'}]"
      ]
     },
     "execution_count": 72,
     "metadata": {},
     "output_type": "execute_result"
    }
   ],
   "source": [
    "groups = list()\n",
    "\n",
    "def put_in_group(norm_qual):\n",
    "    stemmed_qual = ps.stem(norm_qual)\n",
    "\n",
    "    found_group = True\n",
    "    added = False\n",
    "    for group in groups:\n",
    "        for el in group:\n",
    "            stemmed_el = ps.stem(el)\n",
    "            if len(el) <= k_l:\n",
    "                ratio = Levenshtein.distance(stemmed_qual, stemmed_el)\n",
    "                if ratio > k_d:\n",
    "                    found_group = False\n",
    "                    break\n",
    "            else:\n",
    "                ratio = Levenshtein.ratio(stemmed_qual, stemmed_el)\n",
    "                if ratio < k_r:\n",
    "                    found_group = False\n",
    "                    break\n",
    "                \n",
    "        if found_group:\n",
    "            group.add(norm_qual)\n",
    "            added = True\n",
    "            break\n",
    "        found_group = True\n",
    "    if not added:\n",
    "        groups.append(set([norm_qual]))\n",
    "    \n",
    "for line in dataframe.values:\n",
    "    norm_qual = line[4]\n",
    "    put_in_group(norm_qual)\n",
    "\n",
    "groups\n",
    "        "
   ]
  },
  {
   "cell_type": "code",
   "execution_count": null,
   "metadata": {},
   "outputs": [],
   "source": []
  }
 ],
 "metadata": {
  "kernelspec": {
   "display_name": "Python 3",
   "language": "python",
   "name": "python3"
  },
  "language_info": {
   "codemirror_mode": {
    "name": "ipython",
    "version": 3
   },
   "file_extension": ".py",
   "mimetype": "text/x-python",
   "name": "python",
   "nbconvert_exporter": "python",
   "pygments_lexer": "ipython3",
   "version": "3.6.5"
  }
 },
 "nbformat": 4,
 "nbformat_minor": 2
}
